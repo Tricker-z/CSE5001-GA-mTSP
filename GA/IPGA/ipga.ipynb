{
 "cells": [
  {
   "cell_type": "code",
   "execution_count": 123,
   "metadata": {},
   "outputs": [],
   "source": [
    "import math\n",
    "import random\n",
    "import numpy as np\n",
    "import sys\n",
    "import copy"
   ]
  },
  {
   "cell_type": "code",
   "execution_count": 16,
   "metadata": {
    "pycharm": {
     "is_executing": true
    }
   },
   "outputs": [],
   "source": [
    "file_path_tmp = \"../../data/mtsp51.txt\"\n",
    "def load_data(file_path_tmp):\n",
    "    row_data = []\n",
    "    with open(file_path_tmp, \"r\") as f:\n",
    "        row_data = f.readlines()\n",
    "    \n",
    "    row_num = len(row_data) - 1\n",
    "    \n",
    "    iso_tuple_list = []\n",
    "    for i in range(1, len(row_data)):\n",
    "        item = row_data[i].strip().split(\" \")\n",
    "        iso_tuple_list.append((int(item[0]), int(item[1]), int(item[2])))\n",
    "    return iso_tuple_list\n",
    "\n",
    "def cal_dis(t1, t2):\n",
    "    return math.sqrt(sum([(a - b)**2 for (a,b) in zip(t1[1:],t2[1:])]))"
   ]
  },
  {
   "cell_type": "code",
   "execution_count": 47,
   "metadata": {},
   "outputs": [
    {
     "name": "stdout",
     "output_type": "stream",
     "text": [
      "(1, 37, 52) (2, 49, 49)\n",
      "12.36931687685298\n"
     ]
    }
   ],
   "source": [
    "row_data = load_data(file_path_tmp)\n",
    "\n",
    "N = len(row_data)\n",
    "M = 30\n",
    "POPULATION = 100\n",
    "RUNS = 30\n",
    "\n",
    "print(row_data[0], row_data[1])\n",
    "print(cal_dis(row_data[0], row_data[1]))"
   ]
  },
  {
   "cell_type": "markdown",
   "metadata": {},
   "source": [
    "## Initial"
   ]
  },
  {
   "cell_type": "code",
   "execution_count": 90,
   "metadata": {},
   "outputs": [],
   "source": [
    "def generate_breaks(n, m, min_nodes, max_nodes = None):\n",
    "    valid = False\n",
    "    while valid is False:\n",
    "        valid = True\n",
    "#         sorted\n",
    "        breakpoints = sorted(random.sample(range(n), m - 1))\n",
    "    \n",
    "#          first\n",
    "        if breakpoints[0] < min_nodes or (max_nodes is not None and breakpoints[0] > max_nodes):\n",
    "            valid = False\n",
    "            continue\n",
    "            \n",
    "#         middle\n",
    "        for i in range(0, len(breakpoints)-1):\n",
    "            if breakpoints[i+1] - breakpoints[i] < min_nodes or (max_nodes is not None and breakpoints[i+1] - breakpoints[i] > max_nodes):\n",
    "                valid = False\n",
    "                break\n",
    "        \n",
    "        if not valid:\n",
    "            continue\n",
    "# last\n",
    "        if n - breakpoints[-1] < min_nodes or (max_nodes is not None and n - breakpoints[-1] > max_nodes):\n",
    "            valid = False\n",
    "    return breakpoints"
   ]
  },
  {
   "cell_type": "code",
   "execution_count": 104,
   "metadata": {},
   "outputs": [
    {
     "name": "stdout",
     "output_type": "stream",
     "text": [
      "100 100\n"
     ]
    },
    {
     "data": {
      "text/plain": [
       "2225.929203132257"
      ]
     },
     "execution_count": 104,
     "metadata": {},
     "output_type": "execute_result"
    }
   ],
   "source": [
    "def generate_populations(population_size, n, m, min_nodes, max_nodes = None):\n",
    "    populations = [random.sample(range(n), n) for i in range(population_size)] \n",
    "    breaks = [generate_breaks(n, m, min_nodes, max_nodes) for i in range(population_size)]\n",
    "    return populations, breaks\n",
    "\n",
    "def cal_fitness(population, break_points, n):\n",
    "    fitness_list = []\n",
    "    paths = [0] + break_points + [n]\n",
    "    fitness_tmp = 0\n",
    "    for i in range(len(paths) - 1):\n",
    "        begin = paths[i]#include\n",
    "        end = paths[i + 1]#not include\n",
    "        tmp_index = 0\n",
    "        for i in range(begin, end):\n",
    "            fitness_tmp += cal_dis(row_data[population[i]], row_data[tmp_index])\n",
    "            tmp_index = population[i]\n",
    "        fitness_tmp += cal_dis(row_data[0], row_data[tmp_index])\n",
    "        \n",
    "#         fitness_list.append(fitness_tmp)\n",
    "    return fitness_tmp\n",
    "\n",
    "populations, breaks = generate_populations(100, N, M, 1)\n",
    "print(len(populations), len(breaks))\n",
    "(cal_fitness(populations[0], breaks[0], N))"
   ]
  },
  {
   "cell_type": "code",
   "execution_count": 234,
   "metadata": {},
   "outputs": [],
   "source": [
    "def flip_insert(population):\n",
    "    n = len(population)\n",
    "    ij = sorted(random.sample(range(n + 1), 2))\n",
    "    population_tmp = copy.deepcopy(population[ij[0]:ij[1]])\n",
    "    population_tmp.reverse()\n",
    "    \n",
    "    del population[ij[0]:ij[1]]\n",
    "    \n",
    "    p = random.randint(0, len(population))\n",
    "    population[p : p] = population_tmp\n",
    "    \n",
    "    \n",
    "    \n",
    "def swap_insert(population):\n",
    "    n = len(population)\n",
    "    ij = sorted(random.sample(range(n + 1), 2))\n",
    "    print(ij)\n",
    "    \n",
    "    population_tmp = copy.deepcopy(population[ij[0]:ij[1]])\n",
    "    \n",
    "    tmp = population_tmp[0]\n",
    "    population_tmp[0] = population_tmp[len(population_tmp) - 1]\n",
    "    population_tmp[len(population_tmp) - 1] = tmp\n",
    "    \n",
    "    del population[ij[0]:ij[1]]\n",
    "    \n",
    "    p = random.randint(0, len(population))\n",
    "    population[p : p] = population_tmp\n",
    "    \n",
    "# TODO add here\n",
    "def left_lide_insert():\n",
    "    pass\n",
    "\n",
    "def right_lide_insert():\n",
    "    pass\n",
    "    \n",
    "def IPGA(populations,breaks, fitness_list, n, m, min_nodes, max_nodes):\n",
    "    offspring = []\n",
    "    \n",
    "    shuffle = random.sample(range(len(populations)), len(populations))\n",
    "    \n",
    "    for i in range(0, len(populations), 10):\n",
    "        index_tmp = shuffle[i:i + 10]\n",
    "        minus = sys.maxsize\n",
    "        index_best = -1 \n",
    "        \n",
    "        for j in range(10):\n",
    "            index = index_tmp[j]\n",
    "            index_best = index if fitness_list[index] < minus else index_best\n",
    "        \n",
    "        best_populations = [copy.deepcopy(populations[index_best]) for j in range(10)]\n",
    "        \n",
    "#         1, nothing\n",
    "\n",
    "#         2. FlipInsert\n",
    "        "
   ]
  },
  {
   "cell_type": "code",
   "execution_count": 120,
   "metadata": {},
   "outputs": [],
   "source": [
    "iters = 100\n",
    "def ga_start(max_iters ):\n",
    "    min_nodes = 1\n",
    "    max_nodes = 30\n",
    "    \n",
    "    populations, breaks = generate_populations(POPULATION, N, M, min_nodes, max_nodes)\n",
    "    global_best = sys.maxsize\n",
    "    \n",
    "    fitness_val = []\n",
    "    \n",
    "    for i in range(max_iters):\n",
    "        fitness_list = [cal_fitness(populations[j], breaks[j], N) for j in range(POPULATION)]\n",
    "        global_best = min(global_best,min(fitness_list))\n",
    "    \n",
    "for i in range(1):\n",
    "    ga_start(1)\n",
    "\n",
    "\n",
    "for i in range(0,10,2):\n",
    "    print(i)"
   ]
  },
  {
   "cell_type": "code",
   "execution_count": 235,
   "metadata": {},
   "outputs": [
    {
     "data": {
      "text/plain": [
       "1"
      ]
     },
     "execution_count": 235,
     "metadata": {},
     "output_type": "execute_result"
    }
   ],
   "source": [
    "min([2,3,65,1])"
   ]
  },
  {
   "cell_type": "code",
   "execution_count": 236,
   "metadata": {},
   "outputs": [],
   "source": [
    "t = [2,3,65,1]"
   ]
  },
  {
   "cell_type": "code",
   "execution_count": 237,
   "metadata": {},
   "outputs": [
    {
     "name": "stdout",
     "output_type": "stream",
     "text": [
      "[2, 3, 65, 1]\n"
     ]
    }
   ],
   "source": [
    "print(t)"
   ]
  },
  {
   "cell_type": "code",
   "execution_count": 240,
   "metadata": {},
   "outputs": [
    {
     "name": "stdout",
     "output_type": "stream",
     "text": [
      "[2, 65, 1, 3]\n",
      "[1, 4]\n",
      "[3, 1, 65, 2]\n"
     ]
    }
   ],
   "source": [
    "print(t)\n",
    "swap_insert(t)\n",
    "print(t)"
   ]
  },
  {
   "cell_type": "code",
   "execution_count": 154,
   "metadata": {},
   "outputs": [
    {
     "name": "stdout",
     "output_type": "stream",
     "text": [
      "0 2\n",
      "[3, 2] [3, 2, 65, 1]\n",
      "[2, 3] [3, 2, 65, 1]\n",
      "[2, 3] [2, 3, 65, 1]\n"
     ]
    }
   ],
   "source": [
    "ij = sorted(random.sample(range(4 + 1),2))\n",
    "print(ij[0], ij[1])\n",
    "t_1 = copy.deepcopy(t[ij[0]:ij[1]])\n",
    "print(t_1, t)\n",
    "t_1.reverse()\n",
    "print(t_1, t)\n",
    "for i in range(ij[0], ij[1]):\n",
    "    t[i] = t_1[i - ij[0]]\n",
    "print(t_1, t)\n",
    "    "
   ]
  },
  {
   "cell_type": "code",
   "execution_count": 192,
   "metadata": {},
   "outputs": [
    {
     "name": "stdout",
     "output_type": "stream",
     "text": [
      "[2]\n",
      "[1, 3, 4]\n"
     ]
    }
   ],
   "source": [
    "t = [1, 2, 3, 4]\n",
    "print(t[1:2])\n",
    "del t[1:2]\n",
    "print(t)"
   ]
  },
  {
   "cell_type": "code",
   "execution_count": null,
   "metadata": {},
   "outputs": [],
   "source": []
  }
 ],
 "metadata": {
  "kernelspec": {
   "display_name": "Python 3",
   "language": "python",
   "name": "python3"
  },
  "language_info": {
   "codemirror_mode": {
    "name": "ipython",
    "version": 3
   },
   "file_extension": ".py",
   "mimetype": "text/x-python",
   "name": "python",
   "nbconvert_exporter": "python",
   "pygments_lexer": "ipython3",
   "version": "3.8.9"
  }
 },
 "nbformat": 4,
 "nbformat_minor": 1
}